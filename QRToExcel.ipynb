{
 "cells": [
  {
   "cell_type": "code",
   "execution_count": 2,
   "id": "c3b39fd7",
   "metadata": {
    "scrolled": true
   },
   "outputs": [
    {
     "name": "stdout",
     "output_type": "stream",
     "text": [
      "Requirement already satisfied: opencv-python in d:\\codingprograms\\anaconda\\lib\\site-packages (4.10.0.84)\n",
      "Requirement already satisfied: pyzbar in d:\\codingprograms\\anaconda\\lib\\site-packages (0.1.9)\n",
      "Requirement already satisfied: openpyxl in d:\\codingprograms\\anaconda\\lib\\site-packages (3.0.9)\n",
      "Requirement already satisfied: numpy>=1.17.0 in d:\\codingprograms\\anaconda\\lib\\site-packages (from opencv-python) (1.21.6)\n",
      "Requirement already satisfied: et-xmlfile in d:\\codingprograms\\anaconda\\lib\\site-packages (from openpyxl) (1.1.0)\n",
      "Note: you may need to restart the kernel to use updated packages.\n"
     ]
    }
   ],
   "source": [
    "pip install opencv-python pyzbar openpyxl"
   ]
  },
  {
   "cell_type": "code",
   "execution_count": 3,
   "id": "04de6e0b",
   "metadata": {},
   "outputs": [],
   "source": [
    "import cv2\n",
    "from pyzbar.pyzbar import decode\n",
    "from openpyxl import workbook, load_workbook\n",
    "import os"
   ]
  },
  {
   "cell_type": "code",
   "execution_count": 4,
   "id": "84ab5971",
   "metadata": {},
   "outputs": [],
   "source": [
    "excel_file = \"datos_qr.xlsx\"\n",
    "if not  os.path.exists(excel_file):\n",
    "    wb = Workbook()\n",
    "    ws = wb.active()\n",
    "    ws.append ([\"Código_QR\", \"Descripción\"])\n",
    "    wb.save(excel_file)\n",
    "else:\n",
    "    wb = load_workbook(excel_file)\n",
    "    ws = wb.active"
   ]
  },
  {
   "cell_type": "code",
   "execution_count": 5,
   "id": "8732d132",
   "metadata": {},
   "outputs": [
    {
     "name": "stdout",
     "output_type": "stream",
     "text": [
      "Archivo datos_qr.xlsx cargado con éxito.\n"
     ]
    }
   ],
   "source": [
    "from openpyxl import Workbook, load_workbook\n",
    "import os\n",
    "\n",
    "# Ruta del archivo Excel\n",
    "excel_file = \"datos_qr.xlsx\"\n",
    "\n",
    "# Crear o cargar el archivo Excel\n",
    "if not os.path.exists(excel_file):\n",
    "    wb = Workbook()  # Crear un nuevo archivo Excel\n",
    "    ws = wb.active  # Obtener la hoja activa\n",
    "    ws.append([\"Código QR\", \"Descripción\"])  # Agregar encabezados\n",
    "    wb.save(excel_file)  # Guardar el archivo Excel\n",
    "    print(f\"Archivo {excel_file} creado con éxito.\")\n",
    "else:\n",
    "    wb = load_workbook(excel_file)  # Cargar el archivo existente\n",
    "    ws = wb.active  # Obtener la hoja activa\n",
    "    print(f\"Archivo {excel_file} cargado con éxito.\")"
   ]
  },
  {
   "cell_type": "code",
   "execution_count": 7,
   "id": "8654e2cd",
   "metadata": {},
   "outputs": [
    {
     "name": "stdout",
     "output_type": "stream",
     "text": [
      "Escanea un código QR presionando 'q' para salir.\n",
      "Detectado: https://wa.me/qr/S2R3K425TRF2M1 (Tipo: QRCODE)\n",
      "Datos guardados en datos_qr.xlsx\n",
      "Detectado: https://wa.me/qr/S2R3K425TRF2M1 (Tipo: QRCODE)\n",
      "Datos guardados en datos_qr.xlsx\n",
      "Detectado: https://wa.me/qr/S2R3K425TRF2M1 (Tipo: QRCODE)\n",
      "Datos guardados en datos_qr.xlsx\n",
      "Detectado: https://wa.me/qr/S2R3K425TRF2M1 (Tipo: QRCODE)\n",
      "Datos guardados en datos_qr.xlsx\n",
      "Detectado: https://wa.me/qr/S2R3K425TRF2M1 (Tipo: QRCODE)\n",
      "Datos guardados en datos_qr.xlsx\n",
      "Detectado: https://wa.me/qr/S2R3K425TRF2M1 (Tipo: QRCODE)\n",
      "Datos guardados en datos_qr.xlsx\n",
      "Detectado: https://wa.me/qr/S2R3K425TRF2M1 (Tipo: QRCODE)\n",
      "Datos guardados en datos_qr.xlsx\n",
      "Detectado: https://wa.me/qr/S2R3K425TRF2M1 (Tipo: QRCODE)\n",
      "Datos guardados en datos_qr.xlsx\n",
      "Detectado: csi227|2512701|Milena|Marrugo Pascual|00000137 (Tipo: QRCODE)\n",
      "Datos guardados en datos_qr.xlsx\n"
     ]
    }
   ],
   "source": [
    "'''\n",
    "# Función para guardar datos en Excel\n",
    "def guardar_en_excel(datos):\n",
    "    ws.append(datos)\n",
    "    wb.save(excel_file)\n",
    "    print(f\"Datos guardados en {excel_file}\")\n",
    "\n",
    "# Iniciar la captura de video\n",
    "cap = cv2.VideoCapture(0)\n",
    "\n",
    "print(\"Escanea un código QR presionando 'q' para salir.\")\n",
    "\n",
    "while True:\n",
    "    ret, frame = cap.read()\n",
    "    if not ret:\n",
    "        break\n",
    "\n",
    "    # Decodificar códigos QR en el cuadro\n",
    "    for barcode in decode(frame):\n",
    "        data = barcode.data.decode(\"utf-8\")\n",
    "        tipo = barcode.type\n",
    "        print(f\"Detectado: {data} (Tipo: {tipo})\")\n",
    "        \n",
    "        # Dibujar un rectángulo alrededor del QR\n",
    "        puntos = barcode.polygon\n",
    "        if len(puntos) > 4:  # Para asegurar que es un polígono\n",
    "            hull = cv2.convexHull(np.array([p for p in puntos], dtype=np.float32))\n",
    "            puntos = hull\n",
    "        n = len(puntos)\n",
    "        for j in range(n):\n",
    "            cv2.line(frame, tuple(puntos[j]), tuple(puntos[(j + 1) % n]), (0, 255, 0), 3)\n",
    "\n",
    "        # Guardar en Excel\n",
    "        guardar_en_excel([data, tipo])\n",
    "    \n",
    "    # Mostrar la imagen de la cámara\n",
    "    cv2.imshow(\"Escaneo QR\", frame)\n",
    "\n",
    "    # Presionar 'q' para salir\n",
    "    if cv2.waitKey(1) & 0xFF == ord('q'):\n",
    "        break\n",
    "\n",
    "cap.release()\n",
    "cv2.destroyAllWindows()\n",
    "'''\n"
   ]
  },
  {
   "cell_type": "code",
   "execution_count": 6,
   "id": "4fd1fbdf",
   "metadata": {},
   "outputs": [
    {
     "name": "stdout",
     "output_type": "stream",
     "text": [
      "Apunta al código QR. Presiona 'S' para guardar o 'Q' para salir.\n"
     ]
    },
    {
     "ename": "KeyboardInterrupt",
     "evalue": "",
     "output_type": "error",
     "traceback": [
      "\u001b[1;31m---------------------------------------------------------------------------\u001b[0m",
      "\u001b[1;31mKeyboardInterrupt\u001b[0m                         Traceback (most recent call last)",
      "\u001b[1;32m~\\AppData\\Local\\Temp/ipykernel_23844/542255209.py\u001b[0m in \u001b[0;36m<module>\u001b[1;34m\u001b[0m\n\u001b[0;32m     30\u001b[0m \u001b[1;33m\u001b[0m\u001b[0m\n\u001b[0;32m     31\u001b[0m \u001b[1;32mwhile\u001b[0m \u001b[1;32mTrue\u001b[0m\u001b[1;33m:\u001b[0m\u001b[1;33m\u001b[0m\u001b[1;33m\u001b[0m\u001b[0m\n\u001b[1;32m---> 32\u001b[1;33m     \u001b[0mret\u001b[0m\u001b[1;33m,\u001b[0m \u001b[0mframe\u001b[0m \u001b[1;33m=\u001b[0m \u001b[0mcap\u001b[0m\u001b[1;33m.\u001b[0m\u001b[0mread\u001b[0m\u001b[1;33m(\u001b[0m\u001b[1;33m)\u001b[0m\u001b[1;33m\u001b[0m\u001b[1;33m\u001b[0m\u001b[0m\n\u001b[0m\u001b[0;32m     33\u001b[0m     \u001b[1;32mif\u001b[0m \u001b[1;32mnot\u001b[0m \u001b[0mret\u001b[0m\u001b[1;33m:\u001b[0m\u001b[1;33m\u001b[0m\u001b[1;33m\u001b[0m\u001b[0m\n\u001b[0;32m     34\u001b[0m         \u001b[1;32mbreak\u001b[0m\u001b[1;33m\u001b[0m\u001b[1;33m\u001b[0m\u001b[0m\n",
      "\u001b[1;31mKeyboardInterrupt\u001b[0m: "
     ]
    }
   ],
   "source": [
    "import cv2\n",
    "import numpy as np\n",
    "from pyzbar.pyzbar import decode\n",
    "from openpyxl import Workbook, load_workbook\n",
    "import os\n",
    "\n",
    "# Archivo de Excel\n",
    "excel_file = \"datos_qr.xlsx\"\n",
    "\n",
    "# Crear o cargar archivo Excel\n",
    "if not os.path.exists(excel_file):\n",
    "    wb = Workbook()\n",
    "    ws = wb.active\n",
    "    ws.append([\"Código QR\", \"Tipo\"])  # Encabezados\n",
    "    wb.save(excel_file)\n",
    "else:\n",
    "    wb = load_workbook(excel_file)\n",
    "    ws = wb.active\n",
    "\n",
    "# Función para guardar datos en Excel\n",
    "def guardar_en_excel(datos):\n",
    "    ws.append(datos)\n",
    "    wb.save(excel_file)\n",
    "    print(f\"Datos guardados en {excel_file}\")\n",
    "\n",
    "# Iniciar la captura de video\n",
    "cap = cv2.VideoCapture(0)\n",
    "\n",
    "print(\"Apunta al código QR. Presiona 'S' para guardar o 'Q' para salir.\")\n",
    "\n",
    "while True:\n",
    "    ret, frame = cap.read()\n",
    "    if not ret:\n",
    "        break\n",
    "\n",
    "    # Decodificar códigos QR en el cuadro\n",
    "    for barcode in decode(frame):\n",
    "        data = barcode.data.decode(\"utf-8\")\n",
    "        tipo = barcode.type\n",
    "        print(f\"Detectado: {data} (Tipo: {tipo})\")\n",
    "\n",
    "        # Dibujar un rectángulo alrededor del QR\n",
    "        puntos = barcode.polygon\n",
    "        if len(puntos) > 4:  # Asegurarse de que es un polígono\n",
    "            hull = cv2.convexHull(np.array([p for p in puntos], dtype=np.float32))\n",
    "            puntos = hull\n",
    "        n = len(puntos)\n",
    "        for j in range(n):\n",
    "            cv2.line(frame, tuple(puntos[j]), tuple(puntos[(j + 1) % n]), (0, 255, 0), 3)\n",
    "\n",
    "        # Guardar en Excel al presionar 'S'\n",
    "        if cv2.waitKey(1) & 0xFF == ord('s'):\n",
    "            guardar_en_excel([data, tipo])\n",
    "\n",
    "    # Mostrar la imagen de la cámara\n",
    "    cv2.imshow(\"Escaneo QR\", frame)\n",
    "\n",
    "    # Presionar 'Q' para salir\n",
    "    if cv2.waitKey(1) & 0xFF == ord('q'):\n",
    "        break\n",
    "\n",
    "cap.release()\n",
    "cv2.destroyAllWindows()\n"
   ]
  },
  {
   "cell_type": "code",
   "execution_count": null,
   "id": "af1cef1b",
   "metadata": {},
   "outputs": [],
   "source": []
  }
 ],
 "metadata": {
  "kernelspec": {
   "display_name": "Python 3 (ipykernel)",
   "language": "python",
   "name": "python3"
  },
  "language_info": {
   "codemirror_mode": {
    "name": "ipython",
    "version": 3
   },
   "file_extension": ".py",
   "mimetype": "text/x-python",
   "name": "python",
   "nbconvert_exporter": "python",
   "pygments_lexer": "ipython3",
   "version": "3.9.7"
  }
 },
 "nbformat": 4,
 "nbformat_minor": 5
}
